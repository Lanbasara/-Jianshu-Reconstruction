{
  "nbformat": 4,
  "nbformat_minor": 0,
  "metadata": {
    "colab": {
      "name": "lab11.ipynb",
      "version": "0.3.2",
      "provenance": [],
      "collapsed_sections": [],
      "include_colab_link": true
    },
    "language_info": {
      "codemirror_mode": {
        "name": "ipython",
        "version": 3
      },
      "file_extension": ".py",
      "mimetype": "text/x-python",
      "name": "python",
      "nbconvert_exporter": "python",
      "pygments_lexer": "ipython3",
      "version": "3.6.7"
    },
    "kernelspec": {
      "display_name": "Python 3",
      "language": "python",
      "name": "python3"
    }
  },
  "cells": [
    {
      "cell_type": "markdown",
      "metadata": {
        "id": "view-in-github",
        "colab_type": "text"
      },
      "source": [
        "<a href=\"https://colab.research.google.com/github/Lanbasara/Jianshu-Reconstruction/blob/master/lab11.ipynb\" target=\"_parent\"><img src=\"https://colab.research.google.com/assets/colab-badge.svg\" alt=\"Open In Colab\"/></a>"
      ]
    },
    {
      "cell_type": "markdown",
      "metadata": {
        "id": "Rsw-B8pAckAm",
        "colab_type": "text"
      },
      "source": [
        "# Lab:  Hyper-Parameter Optimization with PCA\n",
        "\n",
        "PCA is often applied as a pre-processing step with classifiers.  When using PCA in this manner, one must select the number of PC components to use along with parameters in classifier.  In this lab, we will demonstrate how to performing this *hyper-parameter optimization*.  In doing the lab, you will learn to:\n",
        "\n",
        "* Combine PCA with data scaling.\n",
        "* Compute and visualize PC components\n",
        "* Select the number of PCs with K-fold cross validation\n",
        "* Implement the multi-stage classifier pipeline in sklearn\n",
        "* Perform automatic parameter search using `GridSearchCV` in combination with a pipeline.\n",
        "\n",
        "We first download the basic packages."
      ]
    },
    {
      "cell_type": "code",
      "metadata": {
        "id": "HD5CYdA2ckAn",
        "colab_type": "code",
        "colab": {}
      },
      "source": [
        "import numpy as np\n",
        "import matplotlib\n",
        "import matplotlib.pyplot as plt"
      ],
      "execution_count": 0,
      "outputs": []
    },
    {
      "cell_type": "markdown",
      "metadata": {
        "id": "FqG3vi-QckAq",
        "colab_type": "text"
      },
      "source": [
        "## Downloading the Data\n",
        "\n",
        "We will use a very simple `wine` dataset, commonly used in teaching machine learning class.  The problem is to classify the type of red wine from features of the wine such as the `alchohol` and other chemical components.  There are three possible wine types."
      ]
    },
    {
      "cell_type": "code",
      "metadata": {
        "id": "X-2nXjVlckAr",
        "colab_type": "code",
        "outputId": "567488fa-fdfa-4d94-c684-6318c440bcb9",
        "colab": {
          "base_uri": "https://localhost:8080/",
          "height": 70
        }
      },
      "source": [
        "from sklearn.datasets import load_wine\n",
        "from sklearn.model_selection import KFold\n",
        "data = load_wine()\n",
        "\n",
        "# TODO print the features names in data.feature_names and data.target_names\n",
        "print(\"features are {0}\".format(data.feature_names))\n",
        "print(\"targets are {0}\".format(data.target_names))"
      ],
      "execution_count": 6,
      "outputs": [
        {
          "output_type": "stream",
          "text": [
            "features are ['alcohol', 'malic_acid', 'ash', 'alcalinity_of_ash', 'magnesium', 'total_phenols', 'flavanoids', 'nonflavanoid_phenols', 'proanthocyanins', 'color_intensity', 'hue', 'od280/od315_of_diluted_wines', 'proline']\n",
            "targets are ['class_0' 'class_1' 'class_2']\n"
          ],
          "name": "stdout"
        }
      ]
    },
    {
      "cell_type": "markdown",
      "metadata": {
        "id": "Z0HiVz_GckAu",
        "colab_type": "text"
      },
      "source": [
        "Get the data matrix `X` from `data.data` and the target values `y` from `data.target`.  Print the number of samples, number of features and number of classes."
      ]
    },
    {
      "cell_type": "code",
      "metadata": {
        "id": "Y8vX566cckAx",
        "colab_type": "code",
        "outputId": "96b58598-d7a0-4308-ef50-f28980e7b320",
        "colab": {
          "base_uri": "https://localhost:8080/",
          "height": 67
        }
      },
      "source": [
        "# TODO\n",
        "X = data.data\n",
        "y = data.target\n",
        "n_sample = X.shape[0]\n",
        "n_features = X.shape[1]\n",
        "n_classes = len(set(y))\n",
        "print(\"number of samples is {0}\".format(n_sample))\n",
        "print(\"number of features is {0}\".format(n_features))\n",
        "print(\"number of claeese is {0}\".format(n_classes))"
      ],
      "execution_count": 31,
      "outputs": [
        {
          "output_type": "stream",
          "text": [
            "number of samples is 178\n",
            "number of features is 13\n",
            "number of claeese is 3\n"
          ],
          "name": "stdout"
        }
      ]
    },
    {
      "cell_type": "markdown",
      "metadata": {
        "id": "rkIUIY60ckA4",
        "colab_type": "text"
      },
      "source": [
        "## Perform PCA for Visualization\n",
        "\n",
        "Before performing PCA, you should scale the data matrix to remove the mean and normalize the variance of the different components.  For this purpose, create a `StandardScaling` object `scaling`.  Then `fit` the scaling with the entire data `X`.  Transform the data and let `Xs` be the scaled data."
      ]
    },
    {
      "cell_type": "markdown",
      "metadata": {
        "id": "ycZ3xxbujUs1",
        "colab_type": "text"
      },
      "source": [
        "## 查错1"
      ]
    },
    {
      "cell_type": "code",
      "metadata": {
        "id": "R1AC8pgEckA5",
        "colab_type": "code",
        "colab": {}
      },
      "source": [
        "from sklearn.preprocessing import StandardScaler\n",
        "\n",
        "# TODO\n",
        "scaling = StandardScaler()\n",
        "scaling.fit(X)\n",
        "Xs = scaling.transform(X) "
      ],
      "execution_count": 0,
      "outputs": []
    },
    {
      "cell_type": "markdown",
      "metadata": {
        "id": "YKfNmnjIckA9",
        "colab_type": "text"
      },
      "source": [
        "Now, fit a PCA on the scaled data matrix `Xs`.  You can use the `sklearn` `PCA` method.  In order that we can visualize the results set `n_components=2`.  Select `svd_solver='randomized'` and `whiten=True`.  Use the the `pca.transform` method to find, `Z`, the coefficients of `Xs` in the PCA basis."
      ]
    },
    {
      "cell_type": "code",
      "metadata": {
        "id": "MsKY7gbZckBF",
        "colab_type": "code",
        "colab": {}
      },
      "source": [
        "from sklearn.decomposition import PCA\n",
        "\n",
        "# TODO\n",
        "ncomp = 2\n",
        "pca = PCA(n_components=ncomp,svd_solver='randomized',whiten=True).fit(Xs)\n",
        "Z = pca.transform(Xs)\n",
        "# Construct the PCA object"
      ],
      "execution_count": 0,
      "outputs": []
    },
    {
      "cell_type": "markdown",
      "metadata": {
        "id": "p2tyCUskckBV",
        "colab_type": "text"
      },
      "source": [
        "In the transformed basis, each data sample is represented by a two dimensional vector, `Z[i,0], Z[i,1]`.  Plot a scatter plot of the transformed data.  Use different marker colors for the different classes.  If you did everything, you should see that the classes are quite well separated with even two PCs."
      ]
    },
    {
      "cell_type": "code",
      "metadata": {
        "id": "U9Lhn9r4ckBW",
        "colab_type": "code",
        "outputId": "497a0f34-6e50-461f-ff89-7a809b6be12d",
        "colab": {
          "base_uri": "https://localhost:8080/",
          "height": 269
        }
      },
      "source": [
        "# TODO\n",
        "Zs  = np.hstack((Z,y.reshape(-1,1)))\n",
        "for i in Zs:\n",
        "  if i[2] == 0:\n",
        "    plt.scatter(i[0],i[1],color=\"blue\")\n",
        "  elif i[2] == 1:\n",
        "    plt.scatter(i[0],i[1],color=\"red\")\n",
        "  elif i[2] == 2:\n",
        "    plt.scatter(i[0],i[1],color=\"yellow\")"
      ],
      "execution_count": 10,
      "outputs": [
        {
          "output_type": "display_data",
          "data": {
            "image/png": "[encoded data removed]",
            "text/plain": [
              "<Figure size 432x288 with 1 Axes>"
            ]
          },
          "metadata": {
            "tags": []
          }
        }
      ]
    },
    {
      "cell_type": "markdown",
      "metadata": {
        "id": "JzlVZR24ckBb",
        "colab_type": "text"
      },
      "source": [
        "Now, refit the scaled data `Xs` using `n_components=nfeatures` where `nfeatures` is the number of features.  This is the maximum number of PCs.  Get the singular values from `pca.singular_values_` and plot the portion of variation as a function of the number of PCs.   The PoV for using `n` PCs is:\n",
        "\n",
        "    PoV[n]  = \\sum_{i=0}^{n-1}  s[i]**2 / \\sum_{i=0}^{d-1}  s[i]**2\n",
        "    \n",
        "where `s[i]` is the `i`-th singular value and `d` is the number of features.  You should see that the 4 PCs contains more than 70% of the variance."
      ]
    },
    {
      "cell_type": "code",
      "metadata": {
        "id": "c7m32nsSckBd",
        "colab_type": "code",
        "outputId": "1626c010-2e58-4b12-d5e0-095562133c18",
        "colab": {
          "base_uri": "https://localhost:8080/",
          "height": 305
        }
      },
      "source": [
        "# TODO\n",
        "Xsn_sample = Xs.shape[1]\n",
        "pca = PCA(n_components=Xsn_sample,svd_solver='randomized',whiten=True)\n",
        "pca.fit(Xs)\n",
        "S = pca.singular_values_\n",
        "lam = S**2\n",
        "PoV = np.cumsum(lam)/np.sum(lam)\n",
        "plt.plot(PoV)\n",
        "plt.grid()\n",
        "plt.axis([1,Xsn_sample,0, 1.1])\n",
        "plt.xlabel('Number of PCs', fontsize=16)\n",
        "plt.ylabel('PoV', fontsize=16)"
      ],
      "execution_count": 11,
      "outputs": [
        {
          "output_type": "execute_result",
          "data": {
            "text/plain": [
              "Text(0, 0.5, 'PoV')"
            ]
          },
          "metadata": {
            "tags": []
          },
          "execution_count": 11
        },
        {
          "output_type": "display_data",
          "data": {
            "image/png": "[encoded data removed]",
            "text/plain": [
              "<Figure size 432x288 with 1 Axes>"
            ]
          },
          "metadata": {
            "tags": []
          }
        }
      ]
    },
    {
      "cell_type": "markdown",
      "metadata": {
        "id": "LdJP7mTEckB2",
        "colab_type": "text"
      },
      "source": [
        "## Using PCA with Classification \n",
        "\n",
        "We will now use data scaling and PCA as a pre-processing step for logistic classification.  The number of PCs to use can be found with cross-validation.  Complete the code below which tries different number of PCs components to use and measures the test accuracy for each value."
      ]
    },
    {
      "cell_type": "code",
      "metadata": {
        "id": "tE49OXJTckB3",
        "colab_type": "code",
        "colab": {
          "base_uri": "https://localhost:8080/",
          "height": 184
        },
        "outputId": "228e09ce-e9da-4b19-f387-a3119c780d4b"
      },
      "source": [
        "from sklearn.preprocessing import StandardScaler\n",
        "from sklearn.linear_model import LogisticRegression\n",
        "nfold = 5\n",
        "\n",
        "# Create a K-fold object\n",
        "kf = KFold(n_splits=nfold)\n",
        "kf.get_n_splits(X)\n",
        "\n",
        "# Number of PCs to try\n",
        "ncomp_test = np.arange(2,12)\n",
        "num_nc = len(ncomp_test)\n",
        "\n",
        "# Accuracy:  acc[icomp,ifold]  is test accuracy when using `ncomp = ncomp_test[icomp]` in fold `ifold`.\n",
        "acc = np.zeros((num_nc,nfold))\n",
        "\n",
        "# Loop over number of components to test\n",
        "for icomp, ncomp in enumerate(ncomp_test):\n",
        "    \n",
        "    # Look over the folds\n",
        "    for ifold, I in enumerate(kf.split(X)):\n",
        "        Itr, Its = I\n",
        "\n",
        "        # TODO:  Split data into training \n",
        "        Xtr = Xs[Itr,:]\n",
        "        ytr = y[Itr]\n",
        "        Xts = Xs[Its,:]\n",
        "        yts = y[Its]\n",
        "        # Xts, ytr, yts = ...\n",
        "\n",
        "        # TODO:  Create a scaling object and fit the scaling on the training data\n",
        "        scaling = StandardScaler()\n",
        "        scaling.fit(Xtr)\n",
        "        Xtr = scaling.transform(Xtr) \n",
        "        # TODO:  Fit the PCA on the scaled training data\n",
        "        pca = PCA(n_components=ncomp,svd_solver='randomized',whiten=True).fit(Xs)\n",
        "        Xtr = pca.transform(Xtr)\n",
        "        # TODO:  Train a classifier on the transformed training data\n",
        "        # Use a logistic regression classifier\n",
        "        logreg = LogisticRegression(multi_class='auto',solver='lbfgs')\n",
        "        logreg.fit(Xtr,ytr)\n",
        "        #   logreg = LogisticRegression(multi_class='auto', solver='lbfgs')\n",
        "\n",
        "        # TODO:  Transform the test data through data scaler and PCA\n",
        "        Xts = scaling.transform(Xts)\n",
        "        # TODO:  Predict the labels the test data\n",
        "        Xts = pca.transform(Xts)\n",
        "        yhat = logreg.predict(Xts)\n",
        "        # TODO:  Measure the accuracy \n",
        "        acc[icomp,ifold] = np.mean(yhat==yts)\n",
        "        #    acc[icomp, ifold] = ...\n",
        "print('accuracy={0}'.format(acc))\n"
      ],
      "execution_count": 20,
      "outputs": [
        {
          "output_type": "stream",
          "text": [
            "accuracy=[[0.91666667 0.97222222 0.91666667 0.91428571 1.        ]\n",
            " [0.86111111 0.97222222 0.88888889 0.97142857 0.97142857]\n",
            " [0.86111111 0.94444444 0.88888889 0.97142857 0.97142857]\n",
            " [0.86111111 0.88888889 0.91666667 0.97142857 0.94285714]\n",
            " [0.97222222 0.91666667 0.91666667 0.94285714 1.        ]\n",
            " [0.97222222 0.88888889 0.91666667 0.94285714 1.        ]\n",
            " [0.97222222 0.91666667 0.91666667 0.94285714 1.        ]\n",
            " [0.94444444 0.91666667 0.94444444 0.94285714 1.        ]\n",
            " [0.94444444 0.91666667 0.91666667 0.94285714 1.        ]\n",
            " [0.94444444 0.88888889 0.91666667 0.94285714 1.        ]]\n"
          ],
          "name": "stdout"
        }
      ]
    },
    {
      "cell_type": "markdown",
      "metadata": {
        "id": "_3JnYjvkckCA",
        "colab_type": "text"
      },
      "source": [
        "Use the `plt.errorbar` function to plot the mean accuracy with error bars corresponding to the standard error of the accuracy as a function of the number of components.  Find the optimal number of PCs to use according to the normal rule and one SE rule.  If you did it correctly, you should get an accuracy of around 96%."
      ]
    },
    {
      "cell_type": "code",
      "metadata": {
        "id": "BXka7z-tckCF",
        "colab_type": "code",
        "colab": {
          "base_uri": "https://localhost:8080/",
          "height": 286
        },
        "outputId": "ff277e13-cfbd-4f33-87be-4f275e374aec"
      },
      "source": [
        "# TODO:\n",
        "acc_mean = np.mean(acc,axis = 1)\n",
        "acc_se = np.std(acc,axis = 1)/np.sqrt(nfold-1)\n",
        "plt.errorbar(np.arange(10),acc_mean,yerr = acc_se)\n",
        "# plt.errorbar(...)\n",
        "\n",
        "# TODO:  Optimal order with the normal rule\n",
        "MAX = np.argmax(acc_mean)\n",
        "acc_target = acc_mean[MAX] - (acc_se[MAX])\n",
        "MAX_SE = np.max(np.where(acc_mean >= acc_target)[0])\n",
        "plt.grid()\n",
        "print(\"optimal order is {0}, accuracy = {1}\".format(MAX_SE,acc_target))"
      ],
      "execution_count": 23,
      "outputs": [
        {
          "output_type": "stream",
          "text": [
            "optimal order is 9, accuracy = 0.93345514635272\n"
          ],
          "name": "stdout"
        },
        {
          "output_type": "display_data",
          "data": {
            "image/png": "[encoded data removed]",
            "text/plain": [
              "<Figure size 432x288 with 1 Axes>"
            ]
          },
          "metadata": {
            "tags": []
          }
        }
      ]
    },
    {
      "cell_type": "markdown",
      "metadata": {
        "id": "3JmTvcQBckCL",
        "colab_type": "text"
      },
      "source": [
        "## Hyper-Parameter Optimization with GridCV.\n",
        "\n",
        "We will now try a more complex classifier -- a support vector classifier with a radial basis function.  When we use such a classifer, there will be a number of parameters to tune.  When the number of parameters to tune becomes large, writing a loop over multiple parameters as we did above becomes cumbersome.  The `sklearn` package has a very nice routine, `GridSearchCV` to perform this sort of parameter search.  \n",
        "\n",
        "Before, we do this we need to create an estimator `Pipeline`.  An estimator pipeline is a sequence of transformations followed by an estimator that will operate on the transformed data.  Create the following pipeline:\n",
        "\n",
        "*  Create a `StandardScaler()` object called `scaler` for the first transformation\n",
        "*  Create a `PCA()` object called `pca` for the second transformation\n",
        "*  Create a `SVC()` object called `svc` for the final SVM classifier.  Set the parameter `kernel='rbf'`.\n",
        "\n",
        "Once you have the three steps defined, you can create the pipeline with the command:\n",
        "    \n",
        "    pipe = Pipeline(steps=[('scaler', scaler), ('pca', pca), ('svc', svc)])"
      ]
    },
    {
      "cell_type": "code",
      "metadata": {
        "id": "Ph4sl-CdckCO",
        "colab_type": "code",
        "colab": {
          "base_uri": "https://localhost:8080/",
          "height": 137
        },
        "outputId": "2830f800-fa11-49ed-dd2a-f694e8119975"
      },
      "source": [
        "from sklearn.pipeline import Pipeline\n",
        "from sklearn.model_selection import GridSearchCV\n",
        "from sklearn.svm import SVC\n",
        "\n",
        "# TODO\n",
        "scaler = StandardScaler()\n",
        "pca = PCA()\n",
        "svc = SVC()\n",
        "pipe = Pipeline(steps = [('scaler',scaler),('pca',pca),('svc',svc)])\n",
        "print(pipe)\n",
        "# pca = ...\n",
        "# svc = ...\n",
        "# pipe = Pipeline(steps=[('scaler', scaler), ('pca', pca), ('svc', svc)])"
      ],
      "execution_count": 24,
      "outputs": [
        {
          "output_type": "stream",
          "text": [
            "Pipeline(memory=None,\n",
            "     steps=[('scaler', StandardScaler(copy=True, with_mean=True, with_std=True)), ('pca', PCA(copy=True, iterated_power='auto', n_components=None, random_state=None,\n",
            "  svd_solver='auto', tol=0.0, whiten=False)), ('svc', SVC(C=1.0, cache_size=200, class_weight=None, coef0=0.0,\n",
            "  decision_function_shape='ovr', degree=3, gamma='auto_deprecated',\n",
            "  kernel='rbf', max_iter=-1, probability=False, random_state=None,\n",
            "  shrinking=True, tol=0.001, verbose=False))])\n"
          ],
          "name": "stdout"
        }
      ]
    },
    {
      "cell_type": "markdown",
      "metadata": {
        "id": "sH1A6Q__ckCR",
        "colab_type": "text"
      },
      "source": [
        "We next define all the parameters that we want to search over.  Define the following arrays:\n",
        "\n",
        "*  `ncomp_test`:  values from 3 to 10 representing number of PCs to test\n",
        "*  `C_test`:  values of `C` in the SVC to test.  Use `10^{-2}, 10^{-1}, ... ,10^{3}` \n",
        "*  `gam_test`:  values of `gamma` in the SVC to test.  Use `10^{-3}, 10^{-2}, ... ,10^{1}` "
      ]
    },
    {
      "cell_type": "code",
      "metadata": {
        "id": "eScxUL8fckCW",
        "colab_type": "code",
        "colab": {}
      },
      "source": [
        "# TODO\n",
        "ncomp_test = range(3,11)\n",
        "c_test = [1e-2,1e-1,1,10,1e2,1e3]\n",
        "gam_test = [1e-3,1e-2,1e-1,1,10]"
      ],
      "execution_count": 0,
      "outputs": []
    },
    {
      "cell_type": "markdown",
      "metadata": {
        "id": "BDLF9-j6ckCZ",
        "colab_type": "text"
      },
      "source": [
        "Next, we create a dictionary `params` of the form:\n",
        "\n",
        "    params =  {'pca__n_components': ncomp_test, 'svc__C' : c_test, ...}\n",
        "    \n",
        "Each key in the dictionary is the of the form `estimator__param` and the value is the values to be tested."
      ]
    },
    {
      "cell_type": "code",
      "metadata": {
        "id": "km7QoHIUckCa",
        "colab_type": "code",
        "colab": {}
      },
      "source": [
        "# TODO\n",
        "params = {'pca__n_components':ncomp_test,'svc__C' : c_test,'svc__gamma':gam_test}"
      ],
      "execution_count": 0,
      "outputs": []
    },
    {
      "cell_type": "markdown",
      "metadata": {
        "id": "cYt7N2BmckCd",
        "colab_type": "text"
      },
      "source": [
        "Finally, an object `estimator = GridSearchCV(...)` from  `pipe` and `params`.  Set `cv=5`, `train_score=True` and `iid=False`.  Fit the estimator from the data `X,y`.  Then the estimator will perform the cross-validation over all the parameters.  This may take a minute since we are search over so many parameters."
      ]
    },
    {
      "cell_type": "code",
      "metadata": {
        "id": "51oEQUZTckCe",
        "colab_type": "code",
        "colab": {
          "base_uri": "https://localhost:8080/",
          "height": 221
        },
        "outputId": "53d24460-c022-4926-bcbc-ca8b25353e2b"
      },
      "source": [
        "# TODO\n",
        "params = {'pca__n_components':ncomp_test,'svc__C' : c_test,'svc__gamma':gam_test}\n",
        "estimator = GridSearchCV(pipe,params, cv = 5, iid = False,)\n",
        "estimator.fit(X, y)"
      ],
      "execution_count": 34,
      "outputs": [
        {
          "output_type": "execute_result",
          "data": {
            "text/plain": [
              "GridSearchCV(cv=5, error_score='raise-deprecating',\n",
              "       estimator=Pipeline(memory=None,\n",
              "     steps=[('scaler', StandardScaler(copy=True, with_mean=True, with_std=True)), ('pca', PCA(copy=True, iterated_power='auto', n_components=None, random_state=None,\n",
              "  svd_solver='auto', tol=0.0, whiten=False)), ('svc', SVC(C=1.0, cache_size=200, class_weight=None, coef0=0.0,\n",
              "  decision_function_shape='ovr', degree=3, gamma='auto_deprecated',\n",
              "  kernel='rbf', max_iter=-1, probability=False, random_state=None,\n",
              "  shrinking=True, tol=0.001, verbose=False))]),\n",
              "       fit_params=None, iid=False, n_jobs=None,\n",
              "       param_grid={'pca__n_components': range(3, 11), 'svc__C': [0.01, 0.1, 1, 10, 100.0, 1000.0], 'svc__gamma': [0.001, 0.01, 0.1, 1, 10]},\n",
              "       pre_dispatch='2*n_jobs', refit=True, return_train_score='warn',\n",
              "       scoring=None, verbose=0)"
            ]
          },
          "metadata": {
            "tags": []
          },
          "execution_count": 34
        }
      ]
    },
    {
      "cell_type": "markdown",
      "metadata": {
        "id": "EMO93KzjckCg",
        "colab_type": "text"
      },
      "source": [
        "Print the best test score and best parameters.  They are fields in `estimator`.  If you did it correctly, it should be a little higher than the logistic regression (about 0.97 to 0.98 accuracy)."
      ]
    },
    {
      "cell_type": "code",
      "metadata": {
        "id": "BH9wXB2lckCh",
        "colab_type": "code",
        "colab": {
          "base_uri": "https://localhost:8080/",
          "height": 33
        },
        "outputId": "7595f368-323f-4a6e-e4ee-00f2c8ffc73d"
      },
      "source": [
        "# TODO\n",
        "print('best accuracy={0}',format(estimator.best_score_))"
      ],
      "execution_count": 35,
      "outputs": [
        {
          "output_type": "stream",
          "text": [
            "best accuracy={0} 0.978078078078078\n"
          ],
          "name": "stdout"
        }
      ]
    },
    {
      "cell_type": "markdown",
      "metadata": {
        "id": "O0W3k6hxckCq",
        "colab_type": "text"
      },
      "source": [
        "Finally, you can get the test score for all the parameter choices from \n",
        "\n",
        "    test_score = estimator.cv_results_['mean_test_score']\n",
        "    \n",
        "Use the `imshow` command to plot the mean test score over `gamma` and `C` for the value `n_components=5`."
      ]
    },
    {
      "cell_type": "code",
      "metadata": {
        "id": "ZxDTFl14ckCy",
        "colab_type": "code",
        "colab": {
          "base_uri": "https://localhost:8080/",
          "height": 286
        },
        "outputId": "0feb90aa-80f4-45bf-a3c0-53aa6d348e40"
      },
      "source": [
        "# TODO\n",
        "test_score = estimator.cv_results_['mean_test_score'].reshape(8,6,5)\n",
        "P = plt.gca()\n",
        "P.set_xticks(np.arange(0,len(gam_test)))\n",
        "P.set_xticklabels(gam_test)\n",
        "P.set_yticks(np.arange(0,len(c_test)))\n",
        "P.set_yticklabels(c_test)\n",
        "plt.imshow(test_score[2],aspect='auto')\n",
        "plt.colorbar()"
      ],
      "execution_count": 40,
      "outputs": [
        {
          "output_type": "execute_result",
          "data": {
            "text/plain": [
              "<matplotlib.colorbar.Colorbar at 0x7f24d0ea3f60>"
            ]
          },
          "metadata": {
            "tags": []
          },
          "execution_count": 40
        },
        {
          "output_type": "display_data",
          "data": {
            "image/png": "[encoded data removed]",
            "text/plain": [
              "<Figure size 432x288 with 2 Axes>"
            ]
          },
          "metadata": {
            "tags": []
          }
        }
      ]
    },
    {
      "cell_type": "code",
      "metadata": {
        "id": "Y4eUNIZPckC4",
        "colab_type": "code",
        "colab": {}
      },
      "source": [
        ""
      ],
      "execution_count": 0,
      "outputs": []
    },
    {
      "cell_type": "code",
      "metadata": {
        "id": "A7NHjSmGckC7",
        "colab_type": "code",
        "colab": {}
      },
      "source": [
        ""
      ],
      "execution_count": 0,
      "outputs": []
    }
  ]
}